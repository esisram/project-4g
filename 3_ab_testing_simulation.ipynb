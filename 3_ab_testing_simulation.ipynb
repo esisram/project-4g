{
 "cells": [
  {
   "cell_type": "markdown",
   "id": "1fd07657",
   "metadata": {},
   "source": [
    "# 📘 Simulated A/B Testing and Evaluation\n",
    "---\n",
    "This notebook contains the code and explanation for **Simulated A/B Testing and Evaluation**."
   ]
  },
  {
   "cell_type": "code",
   "execution_count": 1,
   "id": "127c6670",
   "metadata": {},
   "outputs": [
    {
     "name": "stdout",
     "output_type": "stream",
     "text": [
      "Total customers in Segment A: 503\n"
     ]
    },
    {
     "data": {
      "text/html": [
       "<div>\n",
       "<style scoped>\n",
       "    .dataframe tbody tr th:only-of-type {\n",
       "        vertical-align: middle;\n",
       "    }\n",
       "\n",
       "    .dataframe tbody tr th {\n",
       "        vertical-align: top;\n",
       "    }\n",
       "\n",
       "    .dataframe thead th {\n",
       "        text-align: right;\n",
       "    }\n",
       "</style>\n",
       "<table border=\"1\" class=\"dataframe\">\n",
       "  <thead>\n",
       "    <tr style=\"text-align: right;\">\n",
       "      <th></th>\n",
       "      <th>user_id</th>\n",
       "      <th>age</th>\n",
       "      <th>city</th>\n",
       "      <th>monthly_usage_gb</th>\n",
       "      <th>device_type</th>\n",
       "      <th>tenure_months</th>\n",
       "      <th>is_4g</th>\n",
       "      <th>segment</th>\n",
       "    </tr>\n",
       "  </thead>\n",
       "  <tbody>\n",
       "    <tr>\n",
       "      <th>23</th>\n",
       "      <td>1023</td>\n",
       "      <td>29</td>\n",
       "      <td>Medan</td>\n",
       "      <td>3.41</td>\n",
       "      <td>mid-range</td>\n",
       "      <td>32</td>\n",
       "      <td>0</td>\n",
       "      <td>A</td>\n",
       "    </tr>\n",
       "    <tr>\n",
       "      <th>38</th>\n",
       "      <td>1038</td>\n",
       "      <td>21</td>\n",
       "      <td>Jakarta</td>\n",
       "      <td>6.57</td>\n",
       "      <td>mid-range</td>\n",
       "      <td>26</td>\n",
       "      <td>0</td>\n",
       "      <td>A</td>\n",
       "    </tr>\n",
       "    <tr>\n",
       "      <th>41</th>\n",
       "      <td>1041</td>\n",
       "      <td>26</td>\n",
       "      <td>Makassar</td>\n",
       "      <td>6.46</td>\n",
       "      <td>mid-range</td>\n",
       "      <td>22</td>\n",
       "      <td>0</td>\n",
       "      <td>A</td>\n",
       "    </tr>\n",
       "    <tr>\n",
       "      <th>47</th>\n",
       "      <td>1047</td>\n",
       "      <td>25</td>\n",
       "      <td>Surabaya</td>\n",
       "      <td>4.10</td>\n",
       "      <td>mid-range</td>\n",
       "      <td>23</td>\n",
       "      <td>0</td>\n",
       "      <td>A</td>\n",
       "    </tr>\n",
       "    <tr>\n",
       "      <th>53</th>\n",
       "      <td>1053</td>\n",
       "      <td>21</td>\n",
       "      <td>Bandung</td>\n",
       "      <td>7.25</td>\n",
       "      <td>mid-range</td>\n",
       "      <td>33</td>\n",
       "      <td>0</td>\n",
       "      <td>A</td>\n",
       "    </tr>\n",
       "  </tbody>\n",
       "</table>\n",
       "</div>"
      ],
      "text/plain": [
       "    user_id  age      city  monthly_usage_gb device_type  tenure_months  \\\n",
       "23     1023   29     Medan              3.41   mid-range             32   \n",
       "38     1038   21   Jakarta              6.57   mid-range             26   \n",
       "41     1041   26  Makassar              6.46   mid-range             22   \n",
       "47     1047   25  Surabaya              4.10   mid-range             23   \n",
       "53     1053   21   Bandung              7.25   mid-range             33   \n",
       "\n",
       "    is_4g segment  \n",
       "23      0       A  \n",
       "38      0       A  \n",
       "41      0       A  \n",
       "47      0       A  \n",
       "53      0       A  "
      ]
     },
     "execution_count": 1,
     "metadata": {},
     "output_type": "execute_result"
    }
   ],
   "source": [
    "# Your code will go here\n",
    "import pandas as pd\n",
    "import numpy as np\n",
    "\n",
    "# Load dataset\n",
    "df = pd.read_csv(\"dummy_telkomsel_data.csv\")\n",
    "\n",
    "# Filter target segment: Segment A (Target konversi 4G)\n",
    "segment_a = df[df['segment'] == 'A'].copy()\n",
    "print(f\"Total customers in Segment A: {len(segment_a)}\")\n",
    "segment_a.head()"
   ]
  },
  {
   "cell_type": "code",
   "execution_count": 2,
   "id": "74235b3b",
   "metadata": {},
   "outputs": [
    {
     "data": {
      "text/plain": [
       "group      converted\n",
       "control    0            0.411531\n",
       "treatment  0            0.361829\n",
       "           1            0.129225\n",
       "control    1            0.097416\n",
       "Name: proportion, dtype: float64"
      ]
     },
     "execution_count": 2,
     "metadata": {},
     "output_type": "execute_result"
    }
   ],
   "source": [
    "# Tambahkan kolom grup secara acak (treatment vs control)\n",
    "np.random.seed(42)\n",
    "segment_a['group'] = np.random.choice(['treatment', 'control'], size=len(segment_a))\n",
    "\n",
    "# Simulasi hasil kampanye: treatment lebih tinggi konversinya\n",
    "segment_a['converted'] = 0\n",
    "segment_a.loc[(segment_a['group'] == 'treatment') & (np.random.rand(len(segment_a)) < 0.28), 'converted'] = 1\n",
    "segment_a.loc[(segment_a['group'] == 'control') & (np.random.rand(len(segment_a)) < 0.16), 'converted'] = 1\n",
    "\n",
    "segment_a[['group', 'converted']].value_counts(normalize=True)"
   ]
  },
  {
   "cell_type": "code",
   "execution_count": 3,
   "id": "aca77497",
   "metadata": {},
   "outputs": [
    {
     "data": {
      "text/html": [
       "<div>\n",
       "<style scoped>\n",
       "    .dataframe tbody tr th:only-of-type {\n",
       "        vertical-align: middle;\n",
       "    }\n",
       "\n",
       "    .dataframe tbody tr th {\n",
       "        vertical-align: top;\n",
       "    }\n",
       "\n",
       "    .dataframe thead th {\n",
       "        text-align: right;\n",
       "    }\n",
       "</style>\n",
       "<table border=\"1\" class=\"dataframe\">\n",
       "  <thead>\n",
       "    <tr style=\"text-align: right;\">\n",
       "      <th></th>\n",
       "      <th>count</th>\n",
       "      <th>sum</th>\n",
       "      <th>conversion_rate</th>\n",
       "    </tr>\n",
       "    <tr>\n",
       "      <th>group</th>\n",
       "      <th></th>\n",
       "      <th></th>\n",
       "      <th></th>\n",
       "    </tr>\n",
       "  </thead>\n",
       "  <tbody>\n",
       "    <tr>\n",
       "      <th>control</th>\n",
       "      <td>256</td>\n",
       "      <td>49</td>\n",
       "      <td>0.191406</td>\n",
       "    </tr>\n",
       "    <tr>\n",
       "      <th>treatment</th>\n",
       "      <td>247</td>\n",
       "      <td>65</td>\n",
       "      <td>0.263158</td>\n",
       "    </tr>\n",
       "  </tbody>\n",
       "</table>\n",
       "</div>"
      ],
      "text/plain": [
       "           count  sum  conversion_rate\n",
       "group                                 \n",
       "control      256   49         0.191406\n",
       "treatment    247   65         0.263158"
      ]
     },
     "execution_count": 3,
     "metadata": {},
     "output_type": "execute_result"
    }
   ],
   "source": [
    "# Hitung konversi per grup\n",
    "ab_summary = segment_a.groupby('group')['converted'].agg(['count', 'sum', 'mean'])\n",
    "ab_summary.rename(columns={'mean': 'conversion_rate'}, inplace=True)\n",
    "ab_summary\n"
   ]
  },
  {
   "cell_type": "code",
   "execution_count": 4,
   "id": "761fed82",
   "metadata": {},
   "outputs": [
    {
     "data": {
      "image/png": "[encoded data removed]",
      "text/plain": [
       "<Figure size 640x480 with 1 Axes>"
      ]
     },
     "metadata": {},
     "output_type": "display_data"
    }
   ],
   "source": [
    "import seaborn as sns\n",
    "import matplotlib.pyplot as plt\n",
    "\n",
    "sns.barplot(data=segment_a, x='group', y='converted', estimator=np.mean)\n",
    "plt.title('Conversion Rate by Group')\n",
    "plt.ylabel('Conversion Rate')\n",
    "plt.xlabel('Group')\n",
    "plt.ylim(0, 0.4)\n",
    "plt.show()"
   ]
  },
  {
   "cell_type": "code",
   "execution_count": 7,
   "id": "4c2b68e6",
   "metadata": {},
   "outputs": [
    {
     "name": "stdout",
     "output_type": "stream",
     "text": [
      "Chi-square: 3.294424906963063\n",
      "p-value: 0.06951544693735241\n",
      "Jika p < 0.05, artinya perbedaan antara grup treatment dan control signifikan secara statistik.\n"
     ]
    }
   ],
   "source": [
    "from scipy.stats import chi2_contingency\n",
    "\n",
    "contingency = pd.crosstab(segment_a['group'], segment_a['converted'])\n",
    "chi2, p, dof, expected = chi2_contingency(contingency)\n",
    "\n",
    "print(\"Chi-square:\", chi2)\n",
    "print(\"p-value:\", p)\n",
    "print(\"Jika p < 0.05, artinya perbedaan antara grup treatment dan control signifikan secara statistik.\")"
   ]
  },
  {
   "cell_type": "code",
   "execution_count": null,
   "id": "0487da81",
   "metadata": {},
   "outputs": [],
   "source": []
  }
 ],
 "metadata": {
  "kernelspec": {
   "display_name": "base",
   "language": "python",
   "name": "python3"
  },
  "language_info": {
   "codemirror_mode": {
    "name": "ipython",
    "version": 3
   },
   "file_extension": ".py",
   "mimetype": "text/x-python",
   "name": "python",
   "nbconvert_exporter": "python",
   "pygments_lexer": "ipython3",
   "version": "3.12.7"
  }
 },
 "nbformat": 4,
 "nbformat_minor": 5
}
